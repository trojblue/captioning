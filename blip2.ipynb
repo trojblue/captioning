{
 "cells": [
  {
   "cell_type": "code",
   "execution_count": null,
   "id": "9e6ebd1d-4b68-45de-9b7a-a3c441a89e2a",
   "metadata": {
    "tags": []
   },
   "outputs": [],
   "source": [
    "import sys\n",
    "import torch\n",
    "from PIL import Image\n",
    "import requests\n",
    "from lavis.models import load_model_and_preprocess"
   ]
  },
  {
   "cell_type": "code",
   "execution_count": null,
   "id": "bf4f1f09-993c-40cd-ba6e-bf2e0d97a33a",
   "metadata": {
    "tags": []
   },
   "outputs": [],
   "source": [
    "img_url = 'https://storage.googleapis.com/sfr-vision-language-research/LAVIS/assets/merlion.png' \n",
    "raw_image = Image.open(requests.get(img_url, stream=True).raw).convert('RGB')   \n",
    "display(raw_image.resize((596, 437)))"
   ]
  },
  {
   "cell_type": "code",
   "execution_count": null,
   "id": "67510c51-c39d-482a-bf25-cd1d6bb50e91",
   "metadata": {
    "tags": []
   },
   "outputs": [],
   "source": [
    "device = torch.device(\"cuda\") if torch.cuda.is_available() else \"cpu\""
   ]
  },
  {
   "cell_type": "code",
   "execution_count": null,
   "id": "40a3dab2-f0b9-4055-8ce4-cec3e32a4922",
   "metadata": {
    "tags": []
   },
   "outputs": [],
   "source": [
    "# model, vis_processors, _ = load_model_and_preprocess(\n",
    "#     name=\"blip2_opt\", model_type=\"caption_coco_opt2.7b\", is_eval=True, device=device)\n",
    "\n",
    "# model, vis_processors, _ = load_model_and_preprocess(\n",
    "#     name=\"blip2_t5\", model_type=\"pretrain_flant5xxl\", is_eval=True, device=device\n",
    "# )\n",
    "\n",
    "model, vis_processors, _ = load_model_and_preprocess(\n",
    "    name=\"blip2_opt\", model_type=\"caption_coco_opt6.7b\", is_eval=True, device=device\n",
    ")"
   ]
  },
  {
   "cell_type": "code",
   "execution_count": null,
   "id": "f32e802c-0d74-413f-a684-ac6405bd50ff",
   "metadata": {},
   "outputs": [],
   "source": [
    "image = vis_processors[\"eval\"](raw_image).unsqueeze(0).to(device)"
   ]
  },
  {
   "cell_type": "code",
   "execution_count": null,
   "id": "7d4b9478-71ee-43d9-afac-03a6151c58a5",
   "metadata": {
    "tags": []
   },
   "outputs": [],
   "source": [
    "model.generate({\"image\": image})"
   ]
  },
  {
   "cell_type": "code",
   "execution_count": null,
   "id": "248729a8-07d2-4074-b2cd-f308e237acd1",
   "metadata": {
    "tags": []
   },
   "outputs": [],
   "source": [
    "model.generate({\"image\": image}, use_nucleus_sampling=True, num_captions=4)"
   ]
  },
  {
   "cell_type": "code",
   "execution_count": null,
   "id": "10eb0b7c-a42e-4bce-b855-44ee83f4b930",
   "metadata": {
    "tags": []
   },
   "outputs": [],
   "source": [
    "model.generate({\"image\": image, \n",
    "                \"prompt\": \"Question: What's in the image? Answer:\"\n",
    "               }, min_length=50, max_length=150)"
   ]
  },
  {
   "cell_type": "code",
   "execution_count": null,
   "id": "8ecde802-3a0d-4d37-b9fd-8e956db22d90",
   "metadata": {
    "tags": []
   },
   "outputs": [],
   "source": [
    "model.generate({\n",
    "    \"image\": image,\n",
    "    \"prompt\": \"Question: which city is this? Answer: singapore. Question: why?\"})"
   ]
  },
  {
   "cell_type": "markdown",
   "id": "593834c9-0912-43e9-8491-1b2e45ce5734",
   "metadata": {},
   "source": [
    "## Anime"
   ]
  },
  {
   "cell_type": "code",
   "execution_count": null,
   "id": "c0a0660b-e996-47ac-b644-6646d10b3f73",
   "metadata": {
    "tags": []
   },
   "outputs": [],
   "source": [
    "test_image = Image.open(\"test.jpg\")\n",
    "display(test_image.resize((596, 437)))\n",
    "test_image = vis_processors[\"eval\"](test_image).unsqueeze(0).to(device)"
   ]
  },
  {
   "cell_type": "code",
   "execution_count": null,
   "id": "21366d5c-4cde-4cb1-997a-303f38cef885",
   "metadata": {
    "tags": []
   },
   "outputs": [],
   "source": [
    "model.generate({\"image\": test_image})"
   ]
  },
  {
   "cell_type": "code",
   "execution_count": null,
   "id": "2e5bde3f-16b9-4a17-86a9-fede1a881f0e",
   "metadata": {
    "tags": []
   },
   "outputs": [],
   "source": [
    "import time\n",
    "\n",
    "start_time = time.time()\n",
    "for i in range (4):\n",
    "    res = model.generate({\"image\": test_image, \n",
    "                    \"prompt\": \"Question: What's in the image? Answer:\"\n",
    "                   }, min_length=20, max_length=75, \n",
    "              use_nucleus_sampling=True\n",
    "                  )\n",
    "\n",
    "    print(res)\n",
    "end_time = time.time()\n",
    "print('Time cost: ', end_time - start_time, 's')"
   ]
  }
 ],
 "metadata": {
  "kernelspec": {
   "display_name": "Python 3 (ipykernel)",
   "language": "python",
   "name": "python3"
  },
  "language_info": {
   "codemirror_mode": {
    "name": "ipython",
    "version": 3
   },
   "file_extension": ".py",
   "mimetype": "text/x-python",
   "name": "python",
   "nbconvert_exporter": "python",
   "pygments_lexer": "ipython3",
   "version": "3.10.11"
  }
 },
 "nbformat": 4,
 "nbformat_minor": 5
}
