{
 "cells": [
  {
   "cell_type": "code",
   "execution_count": 4,
   "id": "6670eba2-fb76-415c-b8fa-e438b9a7da6b",
   "metadata": {
    "tags": []
   },
   "outputs": [],
   "source": [
    "import requests\n",
    "\n",
    "class CaptionClient:\n",
    "    def __init__(self, url):\n",
    "        self.url = url\n",
    "\n",
    "    def make_request(self, image_url, param_dict, endpoint):\n",
    "        # create request body\n",
    "        data = {\"image_url\": image_url, \"param_dict\": param_dict}\n",
    "\n",
    "        # make a POST request to the API\n",
    "        response = requests.post(f\"{self.url}/{endpoint}\", json=data)\n",
    "\n",
    "        # return the response\n",
    "        return response.json()"
   ]
  },
  {
   "cell_type": "markdown",
   "id": "d44bb81e-97cf-48a1-bb28-0f0b41cbb9f8",
   "metadata": {},
   "source": [
    "## WD Tagger"
   ]
  },
  {
   "cell_type": "markdown",
   "id": "18b05f95-3e89-4a85-aa7d-070db066c5cb",
   "metadata": {},
   "source": [
    "(piccsum.com: 每次访问随机返回图片)"
   ]
  },
  {
   "cell_type": "code",
   "execution_count": 17,
   "id": "4b217857-6081-4e4d-9cf9-ef2debb539c1",
   "metadata": {
    "tags": []
   },
   "outputs": [
    {
     "name": "stdout",
     "output_type": "stream",
     "text": [
      "{'result': 'no humans, fruit, blurry, food', 'status': 'success', 'error': None, 'time_taken': '0.5374s'}\n"
     ]
    }
   ],
   "source": [
    "client = CaptionClient(\"http://localhost:7860\")\n",
    "\n",
    "response = client.make_request(\n",
    "    \"https://picsum.photos/200/300.jpg\", {}, \"waifu_diffusion\"\n",
    ")\n",
    "\n",
    "print(response)"
   ]
  },
  {
   "cell_type": "code",
   "execution_count": 16,
   "id": "ce98214f-52bc-4122-96ea-1d83c078db91",
   "metadata": {
    "tags": []
   },
   "outputs": [
    {
     "name": "stdout",
     "output_type": "stream",
     "text": [
      "{'result': 'solo, 1girl, scenery, standing', 'status': 'success', 'error': None, 'time_taken': '0.5433s'}\n"
     ]
    }
   ],
   "source": [
    "client = CaptionClient(\"http://54.160.151.215:7860\")\n",
    "\n",
    "response = client.make_request(\n",
    "    \"https://picsum.photos/200/300.jpg\", {\"unwanted_params\":\"something\"}, \"waifu_diffusion\"\n",
    ")\n",
    "print(response)"
   ]
  },
  {
   "cell_type": "markdown",
   "id": "756969b2-e610-409d-a8c4-af05f7878b7b",
   "metadata": {},
   "source": [
    "## Blip2"
   ]
  },
  {
   "cell_type": "code",
   "execution_count": 19,
   "id": "790abd47-83b1-491d-98c8-7baa758470db",
   "metadata": {
    "tags": []
   },
   "outputs": [
    {
     "name": "stdout",
     "output_type": "stream",
     "text": [
      "{'output': ['a body of water with a mountain in the background at sunset time', 'a ship on the lake at sunrise with mountains in the background and blue sky', 'waves break on a calm lake at dusk with a mountain in the background', 'lake superior, an hour away from minnesota, boasts stunning blue water and rocky shoreline'], 'time_taken': '0.6722s', 'parameters': {'unwanted': 'param'}, 'status': 'success', 'error': None}\n"
     ]
    }
   ],
   "source": [
    "client = CaptionClient(\"http://54.160.151.215:7860\")\n",
    "\n",
    "response = client.make_request(\n",
    "    \"https://picsum.photos/200/300.jpg\", {\"unwanted\":\"param\"}, \"blip2\"\n",
    ")\n",
    "print(response)"
   ]
  },
  {
   "cell_type": "code",
   "execution_count": null,
   "id": "795a4b54-2c18-46a3-a6a4-73633fe71e26",
   "metadata": {},
   "outputs": [],
   "source": []
  }
 ],
 "metadata": {
  "kernelspec": {
   "display_name": "Python 3 (ipykernel)",
   "language": "python",
   "name": "python3"
  },
  "language_info": {
   "codemirror_mode": {
    "name": "ipython",
    "version": 3
   },
   "file_extension": ".py",
   "mimetype": "text/x-python",
   "name": "python",
   "nbconvert_exporter": "python",
   "pygments_lexer": "ipython3",
   "version": "3.10.11"
  }
 },
 "nbformat": 4,
 "nbformat_minor": 5
}
